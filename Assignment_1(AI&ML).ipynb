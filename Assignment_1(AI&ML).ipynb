{
  "nbformat": 4,
  "nbformat_minor": 0,
  "metadata": {
    "colab": {
      "provenance": [],
      "authorship_tag": "ABX9TyMkX97WvX7uCvAZW3qIpwQP",
      "include_colab_link": true
    },
    "kernelspec": {
      "name": "python3",
      "display_name": "Python 3"
    },
    "language_info": {
      "name": "python"
    }
  },
  "cells": [
    {
      "cell_type": "markdown",
      "metadata": {
        "id": "view-in-github",
        "colab_type": "text"
      },
      "source": [
        "<a href=\"https://colab.research.google.com/github/DavidrajuBaswa/AI-ML-Internship/blob/main/Assignment_1(AI%26ML).ipynb\" target=\"_parent\"><img src=\"https://colab.research.google.com/assets/colab-badge.svg\" alt=\"Open In Colab\"/></a>"
      ]
    },
    {
      "cell_type": "code",
      "execution_count": null,
      "metadata": {
        "colab": {
          "base_uri": "https://localhost:8080/"
        },
        "id": "tGItCBvcr8OU",
        "outputId": "c5673436-49cf-4aa7-c5f5-68095dbf5a3d"
      },
      "outputs": [
        {
          "output_type": "execute_result",
          "data": {
            "text/plain": [
              "[1, 2, 3, 4, 5, 6, 7, 8]"
            ]
          },
          "metadata": {},
          "execution_count": 16
        }
      ],
      "source": [
        "# task 1 --\n",
        "\n",
        "x=[1,2,3,4]\n",
        "y=[5,6,7,8]\n",
        "\n",
        "x+y"
      ]
    },
    {
      "cell_type": "code",
      "source": [
        "# task 2 --\n",
        "\n",
        "n = int(input(\"ENTER THE NUMBER :-\"))\n",
        "if(n%2) == 0:\n",
        "  print(\"Give number is Even\".format(n))\n",
        "else:\n",
        "    print(\"Give number is Odd\".format(n))"
      ],
      "metadata": {
        "colab": {
          "base_uri": "https://localhost:8080/"
        },
        "id": "AoCbjhU3sN76",
        "outputId": "461f54df-8b93-4085-c01d-5d8849afc25f"
      },
      "execution_count": null,
      "outputs": [
        {
          "output_type": "stream",
          "name": "stdout",
          "text": [
            "ENTER THE NUMBER :-15\n",
            "Give number is Odd\n"
          ]
        }
      ]
    },
    {
      "cell_type": "code",
      "source": [
        "# task 3 --\n",
        "\n",
        "d1 = {'S.No':[1,2,3,4,5,6],'NAME':['suresh','david','daniel','naresh','naresh','santhosh',],'ROLL_NO':[45,12,32,28,13,11]}\n",
        "d1"
      ],
      "metadata": {
        "colab": {
          "base_uri": "https://localhost:8080/"
        },
        "id": "lZ--reu-twc2",
        "outputId": "435f0ed5-cd48-42d7-fc7a-68cbd1260393"
      },
      "execution_count": null,
      "outputs": [
        {
          "output_type": "execute_result",
          "data": {
            "text/plain": [
              "{'S.No': [1, 2, 3, 4, 5, 6],\n",
              " 'NAME': ['suresh', 'david', 'daniel', 'naresh', 'naresh', 'santhosh'],\n",
              " 'ROLL_NO': [45, 12, 32, 28, 13, 11]}"
            ]
          },
          "metadata": {},
          "execution_count": 18
        }
      ]
    },
    {
      "cell_type": "code",
      "source": [
        "# task 4 --\n",
        "\n",
        "num=int(input(\"Enter the number whether to check it is odd or even: \"))\n",
        "\n",
        "def Evenorodd(num):\n",
        "\n",
        "    if(num%2==0):\n",
        "        print(\"Given no is an Even\")\n",
        "    else:\n",
        "        print(\"Given no is an Odd\")\n",
        "\n",
        "Evenorodd(num);"
      ],
      "metadata": {
        "colab": {
          "base_uri": "https://localhost:8080/"
        },
        "id": "ZDY9mNeXuTYF",
        "outputId": "579ad9d0-aac4-4a1b-e5b9-220ced2d2222"
      },
      "execution_count": null,
      "outputs": [
        {
          "output_type": "stream",
          "name": "stdout",
          "text": [
            "Enter the number whether to check it is odd or even: 11\n",
            "Given no is an Odd\n"
          ]
        }
      ]
    },
    {
      "cell_type": "code",
      "source": [
        "# task 5 --\n",
        "\n",
        "def sum_of_num(num):\n",
        "    total=0\n",
        "    for i in num:\n",
        "        total = total+i\n",
        "    return total\n",
        "\n",
        "num = [1, 3, 5, 7, 9]\n",
        "print(\"sum of numbers: \",sum_of_num(num))"
      ],
      "metadata": {
        "id": "r22l48x6xTa4"
      },
      "execution_count": null,
      "outputs": []
    }
  ]
}